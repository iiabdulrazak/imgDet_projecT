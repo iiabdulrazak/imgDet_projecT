{
 "cells": [
  {
   "cell_type": "code",
   "execution_count": 1,
   "metadata": {
    "colab": {
     "base_uri": "https://localhost:8080/"
    },
    "id": "OxSEzWV1YcpQ",
    "outputId": "c74186e0-35ee-495f-aece-380554daef63"
   },
   "outputs": [
    {
     "name": "stdout",
     "output_type": "stream",
     "text": [
      "Collecting python-twitter\n",
      "  Using cached python_twitter-3.5-py2.py3-none-any.whl (67 kB)\n",
      "Requirement already satisfied: future in /usr/lib/python3/dist-packages (from python-twitter) (0.18.2)\n",
      "Collecting requests-oauthlib\n",
      "  Using cached requests_oauthlib-1.3.0-py2.py3-none-any.whl (23 kB)\n",
      "Requirement already satisfied: requests in /usr/lib/python3/dist-packages (from python-twitter) (2.22.0)\n",
      "Requirement already satisfied: oauthlib>=3.0.0 in /usr/lib/python3/dist-packages (from requests-oauthlib->python-twitter) (3.1.0)\n",
      "Installing collected packages: requests-oauthlib, python-twitter\n",
      "Successfully installed python-twitter-3.5 requests-oauthlib-1.3.0\n"
     ]
    }
   ],
   "source": [
    "!pip install python-twitter"
   ]
  },
  {
   "cell_type": "code",
   "execution_count": 20,
   "metadata": {
    "id": "515baepFX_il"
   },
   "outputs": [],
   "source": [
    "import twitter\n",
    "import math\n",
    "import urllib.request\n",
    "import os\n",
    "import config as cf"
   ]
  },
  {
   "cell_type": "code",
   "execution_count": 21,
   "metadata": {
    "id": "00ukWWJZX_jU"
   },
   "outputs": [],
   "source": [
    "api = twitter.Api(consumer_key = cf.credentials[\"consumer_key\"],\n",
    "                  consumer_secret = cf.credentials[\"consumer_secret\"],\n",
    "                  access_token_key = cf.credentials[\"access_token\"],\n",
    "                  access_token_secret = cf.credentials[\"access_token_secret\"])"
   ]
  },
  {
   "cell_type": "code",
   "execution_count": 26,
   "metadata": {
    "id": "YvTFkbhJX_jY"
   },
   "outputs": [],
   "source": [
    "hashtag = 'ميمز'\n",
    "result_type = 'mixed' # possible values: mixed, recent, popular\n",
    "include_entities = 'true'\n",
    "with_twitter_user_id = 'true' # include user information\n",
    "since = '2020-03-10' # start date\n",
    "until = '2021-04-22'\n",
    "count = '20' # The number of tweets to return per page"
   ]
  },
  {
   "cell_type": "code",
   "execution_count": 27,
   "metadata": {
    "id": "C76FAhOOX_jb"
   },
   "outputs": [],
   "source": [
    "query = ('q={hashtag}' + \n",
    "         '&result_type={result_type}' +\n",
    "         '&include_entities={include_entities}' +\n",
    "         '&with_twitter_user_id={with_twitter_user_id}' + \n",
    "         '&since={since}' + \n",
    "         '&until={until}' +\n",
    "         '&count={count}')\n",
    "\n",
    "query = query.format(hashtag=hashtag,\n",
    "                 result_type=result_type,\n",
    "                 include_entities=include_entities,\n",
    "                 with_twitter_user_id=with_twitter_user_id,\n",
    "                 since=since,\n",
    "                 until=until,\n",
    "                 count=count)"
   ]
  },
  {
   "cell_type": "code",
   "execution_count": 28,
   "metadata": {
    "colab": {
     "base_uri": "https://localhost:8080/",
     "height": 52
    },
    "id": "JCiGUgoqX_je",
    "outputId": "b08f0ff8-192e-4bd0-ff11-478e95b8b1be",
    "scrolled": true
   },
   "outputs": [
    {
     "data": {
      "text/plain": [
       "'q=ميمز&result_type=mixed&include_entities=true&with_twitter_user_id=true&since=2020-03-10&until=2021-04-22&count=20'"
      ]
     },
     "execution_count": 28,
     "metadata": {},
     "output_type": "execute_result"
    }
   ],
   "source": [
    "query"
   ]
  },
  {
   "cell_type": "code",
   "execution_count": 29,
   "metadata": {
    "id": "YLwGszrtX_jo",
    "scrolled": true
   },
   "outputs": [
    {
     "name": "stdout",
     "output_type": "stream",
     "text": [
      "[]\n"
     ]
    },
    {
     "ename": "ValueError",
     "evalue": "min() arg is an empty sequence",
     "output_type": "error",
     "traceback": [
      "\u001b[0;31m---------------------------------------------------------------------------\u001b[0m",
      "\u001b[0;31mValueError\u001b[0m                                Traceback (most recent call last)",
      "\u001b[0;32m<ipython-input-29-aec2f23693c0>\u001b[0m in \u001b[0;36m<module>\u001b[0;34m\u001b[0m\n\u001b[1;32m      9\u001b[0m     \u001b[0mIDs\u001b[0m \u001b[0;34m=\u001b[0m \u001b[0;34m[\u001b[0m\u001b[0mresult\u001b[0m\u001b[0;34m.\u001b[0m\u001b[0mid\u001b[0m \u001b[0;32mfor\u001b[0m \u001b[0mresult\u001b[0m \u001b[0;32min\u001b[0m \u001b[0mresults\u001b[0m\u001b[0;34m]\u001b[0m\u001b[0;34m\u001b[0m\u001b[0;34m\u001b[0m\u001b[0m\n\u001b[1;32m     10\u001b[0m     \u001b[0mprint\u001b[0m\u001b[0;34m(\u001b[0m\u001b[0mIDs\u001b[0m\u001b[0;34m)\u001b[0m\u001b[0;34m\u001b[0m\u001b[0;34m\u001b[0m\u001b[0m\n\u001b[0;32m---> 11\u001b[0;31m     \u001b[0msmallest_ID\u001b[0m \u001b[0;34m=\u001b[0m \u001b[0mmin\u001b[0m\u001b[0;34m(\u001b[0m\u001b[0mIDs\u001b[0m\u001b[0;34m)\u001b[0m\u001b[0;34m\u001b[0m\u001b[0;34m\u001b[0m\u001b[0m\n\u001b[0m\u001b[1;32m     12\u001b[0m \u001b[0;34m\u001b[0m\u001b[0m\n\u001b[1;32m     13\u001b[0m     \u001b[0;32mif\u001b[0m \u001b[0mmax_id\u001b[0m \u001b[0;34m==\u001b[0m \u001b[0;32mNone\u001b[0m\u001b[0;34m:\u001b[0m \u001b[0;31m# first call\u001b[0m\u001b[0;34m\u001b[0m\u001b[0;34m\u001b[0m\u001b[0m\n",
      "\u001b[0;31mValueError\u001b[0m: min() arg is an empty sequence"
     ]
    }
   ],
   "source": [
    "all_results = []\n",
    "max_id = None\n",
    "IDs = []\n",
    "\n",
    "for i in range(0,100):\n",
    "    \n",
    "    results = api.GetSearch(raw_query = query)\n",
    "    all_results.extend(results)\n",
    "    IDs = [result.id for result in results]\n",
    "    print(IDs)\n",
    "    smallest_ID = min(IDs)\n",
    "    \n",
    "    if max_id == None: # first call \n",
    "        max_id = smallest_ID\n",
    "        query += '&max_id={max_id}'.format(max_id=max_id)\n",
    "    else:\n",
    "        old_max_id = \"max_id={max_id}\".format(max_id=max_id)\n",
    "        max_id = smallest_ID\n",
    "        new_max_id = \"max_id={max_id}\".format(max_id=max_id)\n",
    "        query = query.replace(old_max_id,new_max_id)"
   ]
  },
  {
   "cell_type": "code",
   "execution_count": 8,
   "metadata": {
    "colab": {
     "base_uri": "https://localhost:8080/"
    },
    "id": "oLfLAKqpX_js",
    "outputId": "644ce730-da00-4f03-d66b-584345e29e69"
   },
   "outputs": [
    {
     "name": "stdout",
     "output_type": "stream",
     "text": [
      "last max_id = 1383452693776138244\n"
     ]
    }
   ],
   "source": [
    "print(\"last max_id =\",max_id)"
   ]
  },
  {
   "cell_type": "code",
   "execution_count": 9,
   "metadata": {
    "colab": {
     "base_uri": "https://localhost:8080/"
    },
    "id": "XP0Uja_kX_jv",
    "outputId": "4674ea77-a201-4dc9-89b2-635635d2eaf5"
   },
   "outputs": [
    {
     "data": {
      "text/plain": [
       "1976"
      ]
     },
     "execution_count": 9,
     "metadata": {
      "tags": []
     },
     "output_type": "execute_result"
    }
   ],
   "source": [
    "len(all_results)"
   ]
  },
  {
   "cell_type": "code",
   "execution_count": 10,
   "metadata": {
    "colab": {
     "base_uri": "https://localhost:8080/"
    },
    "id": "8PLZS5ZmX_jy",
    "outputId": "1160b72c-400b-452d-d3f2-cf3e54012b0b"
   },
   "outputs": [
    {
     "data": {
      "text/plain": [
       "Status(ID=1384999839927345158, ScreenName=p0urIavie, Created=Wed Apr 21 22:37:48 +0000 2021, Text='ميمز نهاية العالم كانوا كل شي https://t.co/foxETd8d5g')"
      ]
     },
     "execution_count": 10,
     "metadata": {
      "tags": []
     },
     "output_type": "execute_result"
    }
   ],
   "source": [
    "all_results[0]"
   ]
  },
  {
   "cell_type": "code",
   "execution_count": 11,
   "metadata": {
    "colab": {
     "base_uri": "https://localhost:8080/",
     "height": 35
    },
    "id": "mpSXwCk0X_j1",
    "outputId": "beb93e10-8fef-4af3-fe0f-1667921870b0"
   },
   "outputs": [
    {
     "data": {
      "application/vnd.google.colaboratory.intrinsic+json": {
       "type": "string"
      },
      "text/plain": [
       "'1384999839927345158'"
      ]
     },
     "execution_count": 11,
     "metadata": {
      "tags": []
     },
     "output_type": "execute_result"
    }
   ],
   "source": [
    "all_results[0].id_str"
   ]
  },
  {
   "cell_type": "code",
   "execution_count": 12,
   "metadata": {
    "colab": {
     "base_uri": "https://localhost:8080/",
     "height": 35
    },
    "id": "Fhd3F4jJX_j4",
    "outputId": "24900fdf-691a-436b-fc4a-cf7ef60f66fb"
   },
   "outputs": [
    {
     "data": {
      "application/vnd.google.colaboratory.intrinsic+json": {
       "type": "string"
      },
      "text/plain": [
       "'p0urIavie'"
      ]
     },
     "execution_count": 12,
     "metadata": {
      "tags": []
     },
     "output_type": "execute_result"
    }
   ],
   "source": [
    "all_results[0].user.screen_name"
   ]
  },
  {
   "cell_type": "code",
   "execution_count": 13,
   "metadata": {
    "colab": {
     "base_uri": "https://localhost:8080/"
    },
    "id": "eCMRdnE6X_j6",
    "outputId": "1d20ff59-1e67-45b0-ada1-5993e9c41eea"
   },
   "outputs": [
    {
     "name": "stdout",
     "output_type": "stream",
     "text": [
      "https://twitter.com/xaiuud/status/1384999347230740480\n"
     ]
    }
   ],
   "source": [
    "sample_result = all_results[1]\n",
    "\n",
    "tweet_id = sample_result.id_str\n",
    "screen_name = sample_result.user.screen_name\n",
    "\n",
    "tweet_url = \"https://twitter.com/{screen_name}/status/{tweet_id}\"\n",
    "tweet_url = tweet_url.format(screen_name=screen_name,tweet_id=tweet_id)\n",
    "\n",
    "print(tweet_url)"
   ]
  },
  {
   "cell_type": "code",
   "execution_count": 14,
   "metadata": {
    "id": "yuvr1UwAX_j9"
   },
   "outputs": [],
   "source": [
    "def get_tweet_url(tweet):\n",
    "    \n",
    "    tweet_id = tweet.id_str\n",
    "    screen_name = tweet.user.screen_name\n",
    "\n",
    "    tweet_url = \"https://twitter.com/{screen_name}/status/{tweet_id}\"\n",
    "    tweet_url = tweet_url.format(screen_name=screen_name,tweet_id=tweet_id)\n",
    "    \n",
    "    return tweet_url"
   ]
  },
  {
   "cell_type": "code",
   "execution_count": 15,
   "metadata": {
    "id": "yJyJV8diX_j_"
   },
   "outputs": [],
   "source": [
    "folder_name = \"memes_pics\""
   ]
  },
  {
   "cell_type": "code",
   "execution_count": 16,
   "metadata": {
    "id": "XDkzRNkfX_kA"
   },
   "outputs": [],
   "source": [
    "image_origins = {\n",
    "    \"tweet_url\": [],\n",
    "    \"image_id\": [],\n",
    "    \"image_url\": [],\n",
    "}\n",
    "\n",
    "downloaded_img_ids = [file[:file.find('.')] for file in os.listdir(folder_name)]\n",
    "\n",
    "for tweet in all_results:\n",
    "    \n",
    "    tweet_url = get_tweet_url(tweet)\n",
    "    \n",
    "    if tweet.media:\n",
    "        \n",
    "        for media in tweet.media:\n",
    "            \n",
    "            media_id = str(media.id)\n",
    "            media_url = media.media_url\n",
    "            \n",
    "            if not(media_id in downloaded_img_ids): # don't re-download images\n",
    "                \n",
    "                file_name = media_id\n",
    "                file_type = os.path.splitext(media_url)[1]\n",
    "\n",
    "                urllib.request.urlretrieve(media_url, os.path.join(folder_name,file_name+file_type))\n",
    "                \n",
    "                downloaded_img_ids.append(media_id)\n",
    "                \n",
    "                # save image origin info\n",
    "                image_origins[\"tweet_url\"].append(tweet_url)\n",
    "                image_origins[\"image_id\"].append(media_id)\n",
    "                image_origins[\"image_url\"].append(media_url)"
   ]
  },
  {
   "cell_type": "code",
   "execution_count": 17,
   "metadata": {
    "id": "T5-wAAsGX_kE"
   },
   "outputs": [],
   "source": [
    "import pickle\n",
    "\n",
    "pickle.dump(image_origins,open(\"image_origins.p\",\"wb\"))\n",
    "pickle.dump(all_results,open(\"all_results.p\",\"wb\"))"
   ]
  },
  {
   "cell_type": "code",
   "execution_count": 18,
   "metadata": {
    "id": "mT0SCnN1X_kG"
   },
   "outputs": [],
   "source": [
    "import pandas as pd\n",
    "\n",
    "# turn dictionary to dataframe\n",
    "image_info_df = pd.DataFrame.from_dict(image_origins)\n",
    "# remove rows with duplicate image IDs\n",
    "image_info_df = image_info_df.drop_duplicates(subset='image_id', keep='first')\n",
    "# order columns\n",
    "image_info_df = image_info_df[['image_id','image_url','tweet_url']]"
   ]
  },
  {
   "cell_type": "code",
   "execution_count": 20,
   "metadata": {
    "colab": {
     "base_uri": "https://localhost:8080/",
     "height": 419
    },
    "id": "DQVBW4xpX_kI",
    "outputId": "c463e878-cdfc-4306-ae8e-6584de66cc2b"
   },
   "outputs": [
    {
     "data": {
      "text/html": [
       "<div>\n",
       "<style scoped>\n",
       "    .dataframe tbody tr th:only-of-type {\n",
       "        vertical-align: middle;\n",
       "    }\n",
       "\n",
       "    .dataframe tbody tr th {\n",
       "        vertical-align: top;\n",
       "    }\n",
       "\n",
       "    .dataframe thead th {\n",
       "        text-align: right;\n",
       "    }\n",
       "</style>\n",
       "<table border=\"1\" class=\"dataframe\">\n",
       "  <thead>\n",
       "    <tr style=\"text-align: right;\">\n",
       "      <th></th>\n",
       "      <th>image_id</th>\n",
       "      <th>image_url</th>\n",
       "      <th>tweet_url</th>\n",
       "    </tr>\n",
       "  </thead>\n",
       "  <tbody>\n",
       "    <tr>\n",
       "      <th>0</th>\n",
       "      <td>1384999835372187649</td>\n",
       "      <td>http://pbs.twimg.com/media/EziCAyFVcAElMjb.jpg</td>\n",
       "      <td>https://twitter.com/p0urIavie/status/138499983...</td>\n",
       "    </tr>\n",
       "    <tr>\n",
       "      <th>1</th>\n",
       "      <td>1384985398443757573</td>\n",
       "      <td>http://pbs.twimg.com/media/Ezh04cVX0AUszen.jpg</td>\n",
       "      <td>https://twitter.com/IBRA7IM_21/status/13849940...</td>\n",
       "    </tr>\n",
       "    <tr>\n",
       "      <th>2</th>\n",
       "      <td>1384989082821005316</td>\n",
       "      <td>http://pbs.twimg.com/ext_tw_video_thumb/138498...</td>\n",
       "      <td>https://twitter.com/Mkolp20709913/status/13849...</td>\n",
       "    </tr>\n",
       "    <tr>\n",
       "      <th>3</th>\n",
       "      <td>1384987416629555203</td>\n",
       "      <td>http://pbs.twimg.com/media/Ezh2t6qXMAMyRE6.jpg</td>\n",
       "      <td>https://twitter.com/xravzr/status/138498741950...</td>\n",
       "    </tr>\n",
       "    <tr>\n",
       "      <th>4</th>\n",
       "      <td>1384985630116098051</td>\n",
       "      <td>http://pbs.twimg.com/media/Ezh1F7YXMAMk8Of.jpg</td>\n",
       "      <td>https://twitter.com/AlTaie__/status/1384985633...</td>\n",
       "    </tr>\n",
       "    <tr>\n",
       "      <th>...</th>\n",
       "      <td>...</td>\n",
       "      <td>...</td>\n",
       "      <td>...</td>\n",
       "    </tr>\n",
       "    <tr>\n",
       "      <th>364</th>\n",
       "      <td>1383409639073587203</td>\n",
       "      <td>http://pbs.twimg.com/ext_tw_video_thumb/138340...</td>\n",
       "      <td>https://twitter.com/alex11496592/status/138346...</td>\n",
       "    </tr>\n",
       "    <tr>\n",
       "      <th>365</th>\n",
       "      <td>1383463649570824199</td>\n",
       "      <td>http://pbs.twimg.com/media/EzMM3ABVoAc2tMo.jpg</td>\n",
       "      <td>https://twitter.com/MadeInChina3005/status/138...</td>\n",
       "    </tr>\n",
       "    <tr>\n",
       "      <th>366</th>\n",
       "      <td>1383461365898104837</td>\n",
       "      <td>http://pbs.twimg.com/media/EzMKyErVUAUu0vf.jpg</td>\n",
       "      <td>https://twitter.com/SaiyukiG/status/1383461370...</td>\n",
       "    </tr>\n",
       "    <tr>\n",
       "      <th>367</th>\n",
       "      <td>1383460495382827011</td>\n",
       "      <td>http://pbs.twimg.com/ext_tw_video_thumb/138346...</td>\n",
       "      <td>https://twitter.com/GTX20192771/status/1383460...</td>\n",
       "    </tr>\n",
       "    <tr>\n",
       "      <th>368</th>\n",
       "      <td>1383455047963402248</td>\n",
       "      <td>http://pbs.twimg.com/media/EzMFCUiUYAgpZY8.jpg</td>\n",
       "      <td>https://twitter.com/mrssaif729/status/13834550...</td>\n",
       "    </tr>\n",
       "  </tbody>\n",
       "</table>\n",
       "<p>369 rows × 3 columns</p>\n",
       "</div>"
      ],
      "text/plain": [
       "                image_id  ...                                          tweet_url\n",
       "0    1384999835372187649  ...  https://twitter.com/p0urIavie/status/138499983...\n",
       "1    1384985398443757573  ...  https://twitter.com/IBRA7IM_21/status/13849940...\n",
       "2    1384989082821005316  ...  https://twitter.com/Mkolp20709913/status/13849...\n",
       "3    1384987416629555203  ...  https://twitter.com/xravzr/status/138498741950...\n",
       "4    1384985630116098051  ...  https://twitter.com/AlTaie__/status/1384985633...\n",
       "..                   ...  ...                                                ...\n",
       "364  1383409639073587203  ...  https://twitter.com/alex11496592/status/138346...\n",
       "365  1383463649570824199  ...  https://twitter.com/MadeInChina3005/status/138...\n",
       "366  1383461365898104837  ...  https://twitter.com/SaiyukiG/status/1383461370...\n",
       "367  1383460495382827011  ...  https://twitter.com/GTX20192771/status/1383460...\n",
       "368  1383455047963402248  ...  https://twitter.com/mrssaif729/status/13834550...\n",
       "\n",
       "[369 rows x 3 columns]"
      ]
     },
     "execution_count": 20,
     "metadata": {
      "tags": []
     },
     "output_type": "execute_result"
    }
   ],
   "source": [
    "image_info_df"
   ]
  },
  {
   "cell_type": "code",
   "execution_count": 21,
   "metadata": {
    "colab": {
     "base_uri": "https://localhost:8080/"
    },
    "id": "yW1or-KmX_kL",
    "outputId": "ede477b1-6e72-41fb-d4c3-055788c1d0c4"
   },
   "outputs": [
    {
     "data": {
      "text/plain": [
       "369"
      ]
     },
     "execution_count": 21,
     "metadata": {
      "tags": []
     },
     "output_type": "execute_result"
    }
   ],
   "source": [
    "len(image_info_df)"
   ]
  },
  {
   "cell_type": "code",
   "execution_count": 22,
   "metadata": {
    "id": "PRBslRRIX_kN"
   },
   "outputs": [],
   "source": [
    "image_info_df.to_csv(\"image_origins.csv\",index=False)"
   ]
  },
  {
   "cell_type": "markdown",
   "metadata": {
    "id": "efGg2SJuX_kQ"
   },
   "source": [
    "The `Status` class represents the Status structure used by the twitter API. It has the following attributes (all are None by default):\n",
    "* contributors\n",
    "* coordinates\n",
    "* created_at: Date the tweet was published. e.g. 'Mon Jul 22 17:17:39 +0000 2019'\n",
    "* current_user_retweet\n",
    "* favorite_count: # of times the tweet has been liked (heart button).\n",
    "* favorited: Boolean\n",
    "* full_text: List of hashtags the post has. Each element is an object of the class `Hashtag`.\n",
    "* geo\n",
    "* hashtags\n",
    "* id: ID which identifies tweet e.g. 1153353426291572736\n",
    "* id_str: id as a string. e.g. '1153353426291572736'\n",
    "* in_reply_to_screen_name\n",
    "* in_reply_to_status_id\n",
    "* in_reply_to_user_id\n",
    "* lang: language of post. e.g. 'en'\n",
    "* location\n",
    "* media: List of objects of class `Media`, containing information of media present in the tweet, with URL to access the media. e.g. `[Media(ID=1153108337967468544, Type=video, DisplayURL='pic.twitter.com/IsRTsXfDs9')]`\n",
    "* place\n",
    "* possibly_sensitive: Boolean. e.g. False\n",
    "* quoted_status: Twitter status shared by poster (retweet), if one was shared. It is an object of the class `Status`.\n",
    "* quoted_status_id: id which identifies the shared post\n",
    "* quoted_status_id_str: id of shared post as a string\n",
    "* retweet_count: Number of times post was retweeted\n",
    "* retweeted: Boolean\n",
    "* retweeted_status\n",
    "* scopes\n",
    "* source: Device/source where post was shared. e.g. `<a href=\"http://twitter.com/download/iphone\" rel=\"nofollow\">Twitter for iPhone</a>`\n",
    "* text: Text of post, and link of retweet post of the post has a shared tweet. e.g. 'The people have spoken. #RickyRenuncia https://t.co/7UmyDL3Ry4'\n",
    "* truncated: Boolean\n",
    "* urls: list of urls mentioned in post, will usually be retweeted post. Each element is an object of the class `URL`. e.g. `[URL(URL=https://t.co/7UmyDL3Ry4, ExpandedURL=https://twitter.com/davidbegnaud/status/1153344412107399169)]`\n",
    "* user: object of class `User`, has info of tweet author (user ID, screen name, etc)\n",
    "* user_mentions: list\n",
    "* withheld_copyright \n",
    "* withheld_in_countries\n",
    "* withheld_scope"
   ]
  },
  {
   "cell_type": "markdown",
   "metadata": {
    "id": "OQiV5YxaX_kV"
   },
   "source": [
    "The `Hashtag` class represents a twitter hashtag. It has the following attributes:\n",
    "* text: hashtag text (e.g. RickyRenuncia)"
   ]
  },
  {
   "cell_type": "markdown",
   "metadata": {
    "id": "6Hn3AybrX_kW"
   },
   "source": [
    "The `URL` class represents a URL contained in a tweet. It has the following attributes:\n",
    "* expanded_url\n",
    "* url"
   ]
  },
  {
   "cell_type": "markdown",
   "metadata": {
    "id": "GkzgLbMoX_kY"
   },
   "source": [
    "The `User` class represents the User structure. It has the following attributes:\n",
    "* contributors_enabled\n",
    "* created_at\n",
    "* default_profile\n",
    "* default_profile_image\n",
    "* description\n",
    "* email\n",
    "* favourites_count\n",
    "* followers_count\n",
    "* following\n",
    "* friends_count\n",
    "* geo_enabled\n",
    "* id\n",
    "* id_str\n",
    "* lang\n",
    "* listed_count\n",
    "* location\n",
    "* name\n",
    "* notifications\n",
    "* profile attributes ...\n",
    "* protected\n",
    "* screen_name\n",
    "* status\n",
    "* statuses_count\n",
    "* time_zone\n",
    "* url\n",
    "* utc_offset\n",
    "* verified\n",
    "* withheld_in_countries\n",
    "* withheld_scope"
   ]
  },
  {
   "cell_type": "markdown",
   "metadata": {
    "id": "5I2qZGbxX_ka"
   },
   "source": [
    "The `Media` class represents the media component of a tweet. It has the following attributes:\n",
    "* display_url\n",
    "* expanded_url\n",
    "* ext_alt_text\n",
    "* id\n",
    "* media_url\n",
    "* media_url_https\n",
    "* sizes\n",
    "* type\n",
    "* url \n",
    "* video_info"
   ]
  }
 ],
 "metadata": {
  "accelerator": "GPU",
  "colab": {
   "name": "get_photos.ipynb",
   "provenance": []
  },
  "kernelspec": {
   "display_name": "Python 3",
   "language": "python",
   "name": "python3"
  },
  "language_info": {
   "codemirror_mode": {
    "name": "ipython",
    "version": 3
   },
   "file_extension": ".py",
   "mimetype": "text/x-python",
   "name": "python",
   "nbconvert_exporter": "python",
   "pygments_lexer": "ipython3",
   "version": "3.8.5"
  }
 },
 "nbformat": 4,
 "nbformat_minor": 1
}
